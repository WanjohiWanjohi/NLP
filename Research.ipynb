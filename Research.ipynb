{
  "nbformat": 4,
  "nbformat_minor": 0,
  "metadata": {
    "colab": {
      "name": "Research",
      "provenance": [],
      "collapsed_sections": [],
      "authorship_tag": "ABX9TyP1oP09MG0HnLnMIY7o+MXc",
      "include_colab_link": true
    },
    "kernelspec": {
      "name": "python3",
      "display_name": "Python 3"
    }
  },
  "cells": [
    {
      "cell_type": "markdown",
      "metadata": {
        "id": "view-in-github",
        "colab_type": "text"
      },
      "source": [
        "<a href=\"https://colab.research.google.com/github/WanjohiWanjohi/NLP/blob/master/Research.ipynb\" target=\"_parent\"><img src=\"https://colab.research.google.com/assets/colab-badge.svg\" alt=\"Open In Colab\"/></a>"
      ]
    },
    {
      "cell_type": "code",
      "metadata": {
        "id": "qeqGVGlhrq8N",
        "outputId": "7566170c-683b-409d-cdae-54206531b0b0",
        "colab": {
          "base_uri": "https://localhost:8080/",
          "height": 35
        }
      },
      "source": [
        "from google.colab import drive\n",
        "drive.mount('/content/drive')"
      ],
      "execution_count": 1,
      "outputs": [
        {
          "output_type": "stream",
          "text": [
            "Mounted at /content/drive\n"
          ],
          "name": "stdout"
        }
      ]
    },
    {
      "cell_type": "code",
      "metadata": {
        "id": "qRB_P_y-tWcn"
      },
      "source": [
        "import pandas as pd\n"
      ],
      "execution_count": 2,
      "outputs": []
    },
    {
      "cell_type": "code",
      "metadata": {
        "id": "BDruj7iitQoq"
      },
      "source": [
        "def read_file(filename):\n",
        "  return pd.read_csv('/content/drive/My Drive/'+filename+'.csv')"
      ],
      "execution_count": 8,
      "outputs": []
    },
    {
      "cell_type": "code",
      "metadata": {
        "id": "RCfkw7QstlFw"
      },
      "source": [
        "after_lockdown_ke = read_file('Copy of after_lockdown_kenya')\n",
        "before_lockdown_ke = read_file('Copy of before_lockdown_kenya')\n",
        "during_lockdown_ke =read_file('Copy of during_lockdown_kenya')\n",
        "\n",
        "after_lockdown_nigeria = read_file('Copy of after_lockdown_nigeria')\n",
        "before_lockdown_nigeria = read_file('Copy of before_lockdown_nigeria')\n",
        "during_lockdown_nigeria = read_file('Copy of during_lockdown_nigeria')\n",
        "\n",
        "after_lockdown_sa = read_file('Copy of after_lockdown_south_africa')\n",
        "before_lockdown_sa = read_file('Copy of before_lockdown_south_africa')\n",
        "during_lockdown_sa = read_file('Copy of during_lockdown_south_africa')"
      ],
      "execution_count": 10,
      "outputs": []
    },
    {
      "cell_type": "code",
      "metadata": {
        "id": "PYPgSL-3348z"
      },
      "source": [
        "#merge into one dataframe the tweets for each country\n",
        "\n",
        "nigeria = pd.concat([after_lockdown_nigeria , during_lockdown_nigeria , before_lockdown_nigeria])\n",
        "kenya = pd.concat([after_lockdown_ke , during_lockdown_ke , before_lockdown_ke])\n",
        "south_afric = pd.concat([after_lockdown_sa , during_lockdown_sa , before_lockdown_sa])"
      ],
      "execution_count": 19,
      "outputs": []
    },
    {
      "cell_type": "code",
      "metadata": {
        "id": "Szg8wLa3vO2k"
      },
      "source": [
        "import re\n",
        "import nltk\n",
        "from nltk.tokenize import word_tokenize\n",
        "from nltk.corpus import stopwords\n",
        "from nltk.stem.porter import PorterStemmer\n",
        "\n",
        "stemmer = PorterStemmer()\n",
        "\n",
        "def process_text(text):\n",
        "    # Make all the strings lowercase and remove non alphabetic characters\n",
        "    text = re.sub('[^A-Za-z]', ' ', text.lower())\n",
        "\n",
        "    # Tokenize the text; this is, separate every sentence into a list of words\n",
        "    # Since the text is already split into sentences you don't have to call sent_tokenize\n",
        "    tokenized_text = word_tokenize(text)\n",
        "\n",
        "    # Remove the stopwords and stem each word to its root\n",
        "    clean_text = [\n",
        "        stemmer.stem(word) for word in tokenized_text\n",
        "        if word not in stopwords.words('english')\n",
        "    ]\n",
        "\n",
        "    # Remember, this final output is a list of words\n",
        "    return clean_text"
      ],
      "execution_count": 15,
      "outputs": []
    }
  ]
}